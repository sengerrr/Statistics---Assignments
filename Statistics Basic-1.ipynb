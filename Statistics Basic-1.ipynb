{
 "cells": [
  {
   "cell_type": "markdown",
   "id": "3aa5750b-4772-4d09-8b57-27670b79c52e",
   "metadata": {},
   "source": [
    "Q1. What is Statistics?\n"
   ]
  },
  {
   "cell_type": "code",
   "execution_count": 5,
   "id": "1079d4b5-8a66-44cd-8c3c-29a5888d7efa",
   "metadata": {},
   "outputs": [],
   "source": [
    "statistic is the science of collecting , organising , analyzing the particular data \n",
    "\n",
    "for example \n",
    "\n",
    "If a shop owner wants to know the coffee order size per customer \n",
    "\n",
    "1 - collecting data - they will collect the data of coffee orders and how many customers ordered it .\n",
    "2 - organising data - they will organise the data in table for or in charts -\n",
    "                       customer        frequency \n",
    "                          2                4\n",
    "                          4                1\n",
    "                          6                2\n",
    "3 - Analysing data - they can find the average order size using mean - 4+1+2/3 = 2.3 \n"
   ]
  },
  {
   "cell_type": "markdown",
   "id": "2fdb21be-5cb2-4ebd-9783-7105ad9f1595",
   "metadata": {},
   "source": [
    "Q2. Define the different types of statistics and give an example of when each type might be used."
   ]
  },
  {
   "cell_type": "code",
   "execution_count": null,
   "id": "93f2a348-e048-4b2e-8b52-1e8b334c6ad7",
   "metadata": {},
   "outputs": [],
   "source": [
    "there are two types of statistics \n",
    "\n",
    "Descriptive statistics - used to organise and summarise the particular data .\n",
    "inferential statistics - using the sample data to make conclusion our of it . \n",
    "\n",
    "for example \n",
    "\n",
    "heights of students in one classroom - 170,140,160,130,182\n",
    "\n",
    "descriptive statistics - Q-1 what is the average height of student in the class\n",
    "                         Q-2 what is the highest height pf student in the classrom\n",
    "                         Q-3 how much is the diffrence between heights of student in the classroom\n",
    "        \n",
    "inferential statistics - Q- is the height of students in the classroom is similar to the heights oof students in other classroom ?\n"
   ]
  },
  {
   "cell_type": "markdown",
   "id": "6dc04c34-49e5-43cd-aa83-7f09daa17dbb",
   "metadata": {},
   "source": [
    "Q3. What are the different types of data and how do they differ from each other? Provide an example of\n",
    "each type of data."
   ]
  },
  {
   "cell_type": "code",
   "execution_count": null,
   "id": "ba06feb7-dedc-4b9e-84fc-31ff00b99021",
   "metadata": {},
   "outputs": [],
   "source": [
    "there are two types of data - \n",
    "\n",
    "Quantitarive data - deals in numbers or digits \n",
    "1.- Discrete data - deals in whole numbers , for example - number of children in family , number of bank accounts . \n",
    "2.- continous data - deals in every type of value , for example - tempreature of the city , speed of car \n",
    "\n",
    "Qualiitative data ( also known as categorical data )\n",
    "1.- nominal data - fixed category and rank does'nt matter , for example - gender , colours blood group etc\n",
    "2.- Ordinal data - Rank matters here , for example - customer review - excellent , good , average , bad etc."
   ]
  },
  {
   "cell_type": "markdown",
   "id": "2bae3288-63e4-420f-9a88-306688739d9a",
   "metadata": {},
   "source": [
    "Q4. Categorise the following datasets with respect to quantitative and qualitative data types:\n",
    "(i) Grading in exam: A+, A, B+, B, C+, C, D, E\n",
    "(ii) Colour of mangoes: yellow, green, orange, red\n",
    "(iii) Height data of a class: [178.9, 179, 179.5, 176, 177.2, 178.3, 175.8,...]\n",
    "(iv) Number of mangoes exported by a farm: [500, 600, 478, 672, ...]"
   ]
  },
  {
   "cell_type": "code",
   "execution_count": null,
   "id": "b93e5851-560c-4252-99e5-7393909f220e",
   "metadata": {},
   "outputs": [],
   "source": [
    "1 - Quantitative - ordinal \n",
    "2 - Quantitaive - nominal \n",
    "3 - Qualitative - continous\n",
    "4 - Qualitative - discrete"
   ]
  },
  {
   "cell_type": "markdown",
   "id": "4c1fe7ce-285c-4f22-9c44-29387a1cb080",
   "metadata": {},
   "source": [
    "Q5. Explain the concept of levels of measurement and give an example of a variable for each level."
   ]
  },
  {
   "cell_type": "code",
   "execution_count": null,
   "id": "06c02ac7-8903-486e-9ac3-b5512798b950",
   "metadata": {},
   "outputs": [],
   "source": [
    "level of measurement refers to classification of variable on the basiis of characteristics or properties of the data . \n",
    "\n",
    "Nominal: Categorizes variables into mutually exclusive groups without order (e.g. hair color)\n",
    "Ordinal: Categorizes variables into ordered groups with hierarchy but unequal intervals (e.g. income level)   \n",
    "Interval: Categorizes variables with equal intervals and meaningful differences, but no true zero (e.g. temperature)\n",
    "Ratio: Categorizes variables with equal intervals, meaningful differences, and a true zero point (e.g - age )\n"
   ]
  },
  {
   "cell_type": "markdown",
   "id": "f471e12f-334c-4dfe-9d9e-0eddac4a3b2d",
   "metadata": {},
   "source": [
    "Q6. Why is it important to understand the level of measurement when analyzing data? Provide an\n",
    "example to illustrate your answer."
   ]
  },
  {
   "cell_type": "code",
   "execution_count": null,
   "id": "737d9442-31da-40ce-8e63-56f7b77e51ee",
   "metadata": {},
   "outputs": [],
   "source": [
    "1 - Determines appropriate statistical analysis: Different levels of measurement allow for different types of statistical tests and methods.\n",
    "2 - Allows for correct interpretation: Knowing the level of measurement helps interpret the data correctly. For example, nominal values are just codes, not numbers to be mathematically compared.\n",
    "3 - Provides more precision and information: Higher levels of measurement (interval, ratio) provide more precise data and allow for more detailed analysis compared to lower levels (nominal, ordinal).\n",
    "4 - Ensures comparability: Understanding the level of measurement ensures data can be meaningfully compared across groups when the same scale is used.\n",
    "\n",
    "for example \n",
    "Suppose you are analyzing the data from a survey that asks people to rate their job satisfaction on a scale from 1 to 5, where\n",
    "1 is \"very dissatisfied\" and 5 is \"very satisfied.\" If you treat this variable as nominal, you can only perform frequency counts \n",
    "and percentages, which would not provide much insight into the data. However, if you treat it as ordinal, you can perform non-parametric\n",
    "tests like the Wilcoxon rank-sum test to compare the job satisfaction ratings across different groups. If you treat it as interval or\n",
    "ratio, you can use parametric tests like t-tests and ANOVA to analyze the data more precisely and make more meaningful comparisons\n",
    "\n"
   ]
  },
  {
   "cell_type": "markdown",
   "id": "265e210b-917e-4e66-aced-65189d4597b5",
   "metadata": {},
   "source": [
    "Q7. How nominal data type is different from ordinal data type."
   ]
  },
  {
   "cell_type": "code",
   "execution_count": null,
   "id": "e0aab1b1-650d-4362-ab2d-d0e64978edc2",
   "metadata": {},
   "outputs": [],
   "source": [
    "In Nominal data type the rank of the variable does not matter for example colour , gender \n",
    "but in ordinal data type the rank matters .\n",
    "I have explained it in Q.6 - example "
   ]
  },
  {
   "cell_type": "markdown",
   "id": "035c383f-c739-44e7-a7be-e489d45fa6ee",
   "metadata": {},
   "source": [
    "Q8. Which type of plot can be used to display data in terms of range?"
   ]
  },
  {
   "cell_type": "code",
   "execution_count": null,
   "id": "be1b191b-6517-41b5-bf84-8d0db31d2483",
   "metadata": {},
   "outputs": [],
   "source": [
    "1. Box Plot (Box-and-Whisker Plot)\n",
    "\n",
    "2. Error Bars on a Line Plot or Bar Plot\n",
    "\n",
    "3. Range Plot (Range Bar Plot)\n",
    "\n",
    "4. Violin Plot\n",
    "\n",
    "5. Range Slider Plot"
   ]
  },
  {
   "cell_type": "markdown",
   "id": "8cabe3a8-bcc6-45bf-a848-ec18b6766e99",
   "metadata": {},
   "source": [
    "Q9. Describe the difference between descriptive and inferential statistics. Give an example of each\n",
    "type of statistics and explain how they are used."
   ]
  },
  {
   "cell_type": "code",
   "execution_count": null,
   "id": "2da58379-7a93-4b59-af51-71ebfeabe679",
   "metadata": {},
   "outputs": [],
   "source": [
    "Descriptive statistics - used to organise and summarise the particular data .\n",
    "inferential statistics - using the sample data to make conclusion our of it . \n",
    "\n",
    "for example \n",
    "\n",
    "exit polls - \n",
    "\n",
    "wheneer a news channel comes up with exit pool they use inferential statistics . \n",
    "lets say there is election in india to find the percentage of voters who are supporting which party they can't ask each any every person \n",
    "so  they take sample data then they make conclusion from that sample data to whole population"
   ]
  },
  {
   "cell_type": "markdown",
   "id": "2d8077a5-7135-4b95-b813-a2f6f4e698e8",
   "metadata": {},
   "source": [
    "Q10. What are some common measures of central tendency and variability used in statistics? Explain\n",
    "how each measure can be used to describe a dataset."
   ]
  },
  {
   "cell_type": "code",
   "execution_count": null,
   "id": "fbdcacb0-8f2a-49ba-8b1c-b3d4a51c5459",
   "metadata": {},
   "outputs": [],
   "source": [
    "central tendency - Mean , mode , Median\n",
    "dispersion - range , variance , interquartile range , standarad deviation"
   ]
  }
 ],
 "metadata": {
  "kernelspec": {
   "display_name": "Python 3 (ipykernel)",
   "language": "python",
   "name": "python3"
  },
  "language_info": {
   "codemirror_mode": {
    "name": "ipython",
    "version": 3
   },
   "file_extension": ".py",
   "mimetype": "text/x-python",
   "name": "python",
   "nbconvert_exporter": "python",
   "pygments_lexer": "ipython3",
   "version": "3.10.8"
  }
 },
 "nbformat": 4,
 "nbformat_minor": 5
}
